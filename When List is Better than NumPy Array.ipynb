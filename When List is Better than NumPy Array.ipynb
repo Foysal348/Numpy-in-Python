{
 "cells": [
  {
   "cell_type": "code",
   "execution_count": 11,
   "id": "db8623cc-7611-438e-aa23-5d5e348234be",
   "metadata": {},
   "outputs": [
    {
     "name": "stdout",
     "output_type": "stream",
     "text": [
      "461 ns ± 76.8 ns per loop (mean ± std. dev. of 7 runs, 1,000,000 loops each)\n",
      "674 ns ± 20.7 ns per loop (mean ± std. dev. of 7 runs, 1,000,000 loops each)\n"
     ]
    }
   ],
   "source": [
    "import numpy as np\n",
    "#Small Dataset\n",
    "%timeit [i for i in range(10)]\n",
    "%timeit np.arange(10)"
   ]
  },
  {
   "cell_type": "code",
   "execution_count": 17,
   "id": "19dafee8-221e-4092-9d07-f0f4a6dc4d4a",
   "metadata": {},
   "outputs": [
    {
     "name": "stdout",
     "output_type": "stream",
     "text": [
      "53 ns ± 4.91 ns per loop (mean ± std. dev. of 7 runs, 10,000,000 loops each)\n",
      "1.41 μs ± 117 ns per loop (mean ± std. dev. of 7 runs, 1,000,000 loops each)\n"
     ]
    }
   ],
   "source": [
    "#Heterogeneous Data\n",
    "%timeit list=[1,2.4,\"Hello\"]\n",
    "%timeit list1=np.array([1,2.4,\"Hello\"])"
   ]
  },
  {
   "cell_type": "code",
   "execution_count": 49,
   "id": "cb6c7a3d-b4fd-476a-ae98-0aaf6112381c",
   "metadata": {},
   "outputs": [
    {
     "name": "stdout",
     "output_type": "stream",
     "text": [
      "[1 2 3 4 5 6 7 8 9] \n",
      " [[1 2 3 4]\n",
      " [4 2 3 4]] \n",
      " [[[12  2]\n",
      "  [23  2]]\n",
      "\n",
      " [[ 1  2]\n",
      "  [ 1  5]]]\n",
      "1 3 2\n"
     ]
    }
   ],
   "source": [
    "#Array Dimension Check\n",
    "import numpy as np\n",
    "x=np.array([1,2,3,4,5,6,7,8,9])\n",
    "y=np.array([[1,2,3,4],[4,2,3,4]])\n",
    "z=np.array([[[12,2],[23,2]],[[1,2],[1,5]]])\n",
    "print(x,\"\\n\",y,\"\\n\",z)\n",
    "print(x.ndim,z.ndim,y.ndim)"
   ]
  },
  {
   "cell_type": "code",
   "execution_count": 45,
   "id": "d935bf16-3e5f-4831-b3b6-b8b616f796c6",
   "metadata": {},
   "outputs": [
    {
     "name": "stdout",
     "output_type": "stream",
     "text": [
      "[0.52477859 0.10608123 0.82990678 0.44785732 0.38173701]\n",
      "[ 1.92394049  0.43410507  0.11412509  0.28007068 -0.47638828]\n",
      "[0.61808427 0.7456631  0.47861741 0.66532912 0.25715215]\n",
      "6\n",
      "[2 3 9 6 2]\n"
     ]
    }
   ],
   "source": [
    "#Create NumPy Arrays with Random Numbers\n",
    "#Random rand() value between 0 to 1\n",
    "var=np.random.rand(5)\n",
    "print(var)\n",
    "#Random randn() value close to zero,negative or positive\n",
    "var2=np.random.randn(5)#Standard Normal (Gaussian) distribution\n",
    "print(var2)\n",
    "var3=np.random.ranf(5)#Uniform distribution [0.0, 1.0)\n",
    "print(var3)\n",
    "#Random randint(start,end,number) #choose a or more random value from the range\n",
    "var4=np.random.randint(10)\n",
    "print(var4)\n",
    "var5=np.random.randint(1,10,5)\n",
    "print(var5)"
   ]
  },
  {
   "cell_type": "code",
   "execution_count": 16,
   "id": "6520a9b9-96b7-4374-8ec4-6eb6a1a74735",
   "metadata": {},
   "outputs": [
    {
     "name": "stdout",
     "output_type": "stream",
     "text": [
      "<class 'numpy.dtypes.Int8DType'>\n"
     ]
    }
   ],
   "source": [
    "import numpy as np\n",
    "variable=np.array([1,2,3,4,5,6.3,1,3,4],dtype=np.int8)\n",
    "print(type(variable.dtype))"
   ]
  },
  {
   "cell_type": "code",
   "execution_count": null,
   "id": "3b1119e7-2129-4b50-a59a-6a3b26641978",
   "metadata": {},
   "outputs": [],
   "source": [
    "\n"
   ]
  },
  {
   "cell_type": "code",
   "execution_count": null,
   "id": "c9721856-c22c-4a5a-a0bb-ea5064ca6414",
   "metadata": {},
   "outputs": [],
   "source": []
  }
 ],
 "metadata": {
  "kernelspec": {
   "display_name": "Python [conda env:base] *",
   "language": "python",
   "name": "conda-base-py"
  },
  "language_info": {
   "codemirror_mode": {
    "name": "ipython",
    "version": 3
   },
   "file_extension": ".py",
   "mimetype": "text/x-python",
   "name": "python",
   "nbconvert_exporter": "python",
   "pygments_lexer": "ipython3",
   "version": "3.12.7"
  }
 },
 "nbformat": 4,
 "nbformat_minor": 5
}
