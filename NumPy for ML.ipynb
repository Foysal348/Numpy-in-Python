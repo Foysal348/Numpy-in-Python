{
 "cells": [
  {
   "cell_type": "markdown",
   "id": "10da479f-342c-4499-bf09-6954ccb70a43",
   "metadata": {},
   "source": [
    "**1. NumPy Arrays**"
   ]
  },
  {
   "cell_type": "code",
   "execution_count": 451,
   "id": "a8c68fca-a04f-4f5a-8f76-fd76b722bfc3",
   "metadata": {},
   "outputs": [
    {
     "name": "stdout",
     "output_type": "stream",
     "text": [
      "[ 1  2  3  4  5  4  5  6  7 10]\n",
      "<class 'numpy.ndarray'>\n",
      "1\n",
      "[[1 2 3]\n",
      " [9 2 3]]\n",
      "<class 'numpy.ndarray'>\n",
      "2\n",
      "[[[ 1  2  3]\n",
      "  [ 3  4  5]]\n",
      "\n",
      " [[12 12 13]\n",
      "  [ 4  4  1]]]\n",
      "<class 'numpy.ndarray'>\n",
      "3\n"
     ]
    }
   ],
   "source": [
    "import numpy as np\n",
    "#1D Array\n",
    "arr1=np.array([1,2,3,4,5,4,5,6,7,10])\n",
    "print(arr1)\n",
    "print(type(arr1))\n",
    "print(arr1.ndim)\n",
    "\n",
    "#2D Array\n",
    "arr2=np.array([[1,2,3],\n",
    "       [9,2,3]])\n",
    "print(arr2)\n",
    "print(type(arr2))\n",
    "print(arr2.ndim)\n",
    "\n",
    "#3D Array\n",
    "arr3=np.array([[[1,2,3],[3,4,5]],[[12,12,13],[4,4,1]]])\n",
    "print(arr3)\n",
    "print(type(arr3))\n",
    "print(arr3.ndim)"
   ]
  },
  {
   "cell_type": "markdown",
   "id": "b0fdc0c1-74aa-4be8-877f-857e2b2cabef",
   "metadata": {},
   "source": [
    "**2. Array Attributes**"
   ]
  },
  {
   "cell_type": "code",
   "execution_count": 454,
   "id": "6cc90a4b-e7f8-49f2-b9b0-ff51ed817a9e",
   "metadata": {},
   "outputs": [
    {
     "name": "stdout",
     "output_type": "stream",
     "text": [
      "1\n",
      "(4,)\n",
      "4\n",
      "float64\n",
      "8\n",
      "[[1 2 3]\n",
      " [9 2 3]]\n",
      "<class 'numpy.ndarray'>\n",
      "2\n",
      "6\n",
      "int32\n",
      "4\n"
     ]
    }
   ],
   "source": [
    "import numpy as np\n",
    "array1=np.array([1.3,2,3,6.1])\n",
    "array2=np.array([[1,2,3],\n",
    "       [9,2,3]])\n",
    "#For 1D Array\n",
    "print(array1.ndim)# Number of dimensions\n",
    "print(array1.shape)# Shape (rows, columns)\n",
    "print(array1.size)# Total elements\n",
    "print(array1.dtype) # Data type\n",
    "print(array1.itemsize)# Size (bytes) of each element\n",
    "\n",
    "#For 2D Array\n",
    "print(array2)\n",
    "print(type(array2))\n",
    "print(array2.ndim)\n",
    "print(array2.size)\n",
    "print(array2.dtype)\n",
    "print(array2.itemsize)"
   ]
  },
  {
   "cell_type": "markdown",
   "id": "788f8abc-6ca4-4de0-a094-3f8f6a9c6a49",
   "metadata": {},
   "source": [
    "**3. Array Creation Methods**"
   ]
  },
  {
   "cell_type": "code",
   "execution_count": 457,
   "id": "f68454fb-485b-4612-8fc3-f085119247ed",
   "metadata": {},
   "outputs": [
    {
     "name": "stdout",
     "output_type": "stream",
     "text": [
      "[0. 0. 0. 0.]\n",
      "[[0. 0. 0. 0.]\n",
      " [0. 0. 0. 0.]\n",
      " [0. 0. 0. 0.]]\n",
      "[[[0. 0. 0. 0.]\n",
      "  [0. 0. 0. 0.]\n",
      "  [0. 0. 0. 0.]]\n",
      "\n",
      " [[0. 0. 0. 0.]\n",
      "  [0. 0. 0. 0.]\n",
      "  [0. 0. 0. 0.]]]\n",
      "[1. 1. 1.]\n",
      "[[1. 1.]\n",
      " [1. 1.]\n",
      " [1. 1.]]\n",
      "[[[1. 1. 1.]\n",
      "  [1. 1. 1.]]\n",
      "\n",
      " [[1. 1. 1.]\n",
      "  [1. 1. 1.]]]\n",
      "[6 6 6 6]\n",
      "[[7 7 7]\n",
      " [7 7 7]]\n",
      "[[[8 8]\n",
      "  [8 8]\n",
      "  [8 8]]\n",
      "\n",
      " [[8 8]\n",
      "  [8 8]\n",
      "  [8 8]]]\n",
      "[0. 0. 0. 0.]\n",
      "[[2.12199579e-314 2.12199579e-314 1.27319747e-313 1.27319747e-313]\n",
      " [3.95252517e-323 2.12199579e-314 1.06099790e-313 2.12199579e-314]]\n",
      "[[[0. 0. 0. 0.]\n",
      "  [0. 0. 0. 0.]\n",
      "  [0. 0. 0. 0.]]\n",
      "\n",
      " [[0. 0. 0. 0.]\n",
      "  [0. 0. 0. 0.]\n",
      "  [0. 0. 0. 0.]]]\n",
      "[[1. 0. 0.]\n",
      " [0. 1. 0.]\n",
      " [0. 0. 1.]]\n",
      "[0 2 4 6 8]\n",
      "[10.  12.5 15.  17.5 20. ]\n",
      "[0.91757311 0.65205756 0.86749309 0.51470116 0.52261769 0.7034129\n",
      " 0.05114176 0.67247969 0.15792638 0.26514995]\n",
      "[[0.99095842 0.67896109 0.56341901]\n",
      " [0.9796226  0.53447233 0.44824533]]\n",
      "[[[0.77396809 0.32857639 0.18156799 0.57551376]\n",
      "  [0.99084906 0.44790035 0.18567045 0.84922261]\n",
      "  [0.63636995 0.01780727 0.8128764  0.27075903]]\n",
      "\n",
      " [[0.83801385 0.77876073 0.98275534 0.15483358]\n",
      "  [0.52492286 0.35704958 0.51324541 0.2526714 ]\n",
      "  [0.15280648 0.53371407 0.41514573 0.46057374]]]\n",
      "[ 0.02879493  0.42563126 -0.75720793  0.40592005]\n",
      "[[-0.68313348 -0.59238156  0.02979394 -0.29028618]\n",
      " [ 0.46540667 -1.42887118  0.74563658 -0.56316993]]\n",
      "[[[-0.62168991  0.37951942  1.49380589]\n",
      "  [-1.24597705 -1.46104101 -1.08701463]]\n",
      "\n",
      " [[ 1.09651247  0.69738523  0.61324869]\n",
      "  [-0.56261783  0.12566152  0.68353301]]]\n",
      "[0.55830678 0.64084366 0.44288987] [[0.58413953 0.57404061 0.32204394]\n",
      " [0.45449485 0.22111595 0.28002501]\n",
      " [0.20884108 0.73608999 0.56289523]] [[[0.58212454 0.80812345]\n",
      "  [0.07923524 0.54481418]\n",
      "  [0.01977988 0.58856011]]\n",
      "\n",
      " [[0.71216601 0.35932632]\n",
      "  [0.34152798 0.97276786]\n",
      "  [0.78096583 0.36940302]]]\n",
      "[8 7] [[3 9]\n",
      " [5 3]] [[[7 7]\n",
      "  [2 5]\n",
      "  [3 5]]\n",
      "\n",
      " [[1 8]\n",
      "  [7 2]\n",
      "  [9 3]]]\n"
     ]
    }
   ],
   "source": [
    "                                 #3.1:Basic arrays\n",
    "import numpy as np\n",
    "#3.1.1:Zeros\n",
    "zeros=np.zeros(4)#1D array\n",
    "print(zeros)\n",
    "zeros1=np.zeros((3,4))#2D array(3*4)\n",
    "print(zeros1)\n",
    "zeros2=np.zeros((2,3,4))#2 blocks,Each block has 3 rows,Each row has 4 columns\n",
    "print(zeros2)#3D array\n",
    "\n",
    "#3.1.2:Ones\n",
    "ones=np.ones(3)#1D array\n",
    "print(ones)\n",
    "ones1=np.ones((3,2))#2D array\n",
    "print(ones1)\n",
    "ones2=np.ones((2,2,3))#3D array\n",
    "print(ones2)\n",
    "\n",
    "#3.1.3:Full\n",
    "full=np.full((4,),6)#1D array filled with 6\n",
    "print(full)\n",
    "full1=np.full((2,3),7)#2D array filled with 7\n",
    "print(full1)\n",
    "full2=np.full((2,3,2),8)#3D array filled with 8\n",
    "print(full2)\n",
    "\n",
    "#3.1.4:Empty \n",
    "empty=np.empty(4)#1D array filled with 0\n",
    "print(empty)\n",
    "empty2=np.empty((2,4))#2D array filled with 0\n",
    "print(empty2)\n",
    "empty3=np.empty((2,3,4))#3D array filled with 0\n",
    "print(empty3)\n",
    "\n",
    "#3.1.5:Eye --> Identity matrix\n",
    "eyes=np.eye(3)#1D array\n",
    "print(eyes)\n",
    "\n",
    "                                 #3.2:Range arrays\n",
    "#3.2.1:arrage\n",
    "print(np.arange(0,10,2))#arange(start,end,step)\n",
    "\n",
    "#3.2.2:linspace \n",
    "print(np.linspace(10,20,5))#(start,end,numbers)\n",
    "                                #3.3:Random arrays\n",
    "#3.3.1:rand() function\n",
    "\n",
    "Rand_1D=np.random.rand(10)#np.random.rand(n)-->1D array of n random floats between 0 and 1\n",
    "print(Rand_1D)\n",
    "Rand_2D=np.random.rand(2,3)#np.random.rand(n,m)-->2D array of (n*m) random floats between 0 and 1\n",
    "print(Rand_2D)\n",
    "Rand_3D=np.random.rand(2,3,4)#np.random.rand(n,m,p)-->2D array of (n*m*p) random floats between 0 and 1\n",
    "print(Rand_3D)\n",
    "\n",
    "#3.3.2:randn() function #close to zero ,include positive and Negative\n",
    "Randn_1D=np.random.randn(4)#1D array\n",
    "print(Randn_1D)\n",
    "Randn_2D=np.random.randn(2,4)#2D array\n",
    "print(Randn_2D)\n",
    "Randn_3D=np.random.randn(2,2,3)#3D array\n",
    "print(Randn_3D)\n",
    "\n",
    "#3.3.3:ranf() function #Random floats in [0, 1)\n",
    "Ranf_1D=np.random.ranf(3) #1D array\n",
    "Ranf_2D=np.random.ranf((3,3)) #2D array\n",
    "Ranf_3D=np.random.ranf((2,3,2))#3D array\n",
    "print(Ranf_1D,Ranf_2D,Ranf_3D)\n",
    "\n",
    "#3.3.4:Randint(low, high=None, size=None)\n",
    "randint_1D=np.random.randint(0,10,2)#1D array ,select n numbers from k to m (k,m,n) \n",
    "randint_2D=np.random.randint(0,10,(2,2))#2D array\n",
    "randint_3D=np.random.randint(0,10,(2,3,2))#3D array\n",
    "print(randint_1D,randint_2D,randint_3D)"
   ]
  },
  {
   "cell_type": "markdown",
   "id": "a38bb319-655a-4434-a1f0-47651fd9071e",
   "metadata": {},
   "source": [
    "**4. Indexing and Slicing**"
   ]
  },
  {
   "cell_type": "code",
   "execution_count": 460,
   "id": "c8827213-f43c-45cf-9049-ec313cc97a8e",
   "metadata": {},
   "outputs": [
    {
     "name": "stdout",
     "output_type": "stream",
     "text": [
      "2 6\n",
      "[[9 5 4]\n",
      " [6 3 2]\n",
      " [5 3 9]]\n",
      "2\n",
      "[[[-0.01933766 -0.06791163]\n",
      "  [-0.20481134  0.0024951 ]\n",
      "  [ 1.65620021 -0.66919775]]\n",
      "\n",
      " [[ 1.84336915 -0.60610675]\n",
      "  [-1.45799341 -0.43150479]\n",
      "  [ 0.01099194  0.87468704]]]\n",
      "0.002495095797715093\n",
      "[ 0  2  4  6  8 10 12 14]\n",
      "[2 6]\n",
      "[[2 6 3 0]\n",
      " [6 7 5 0]\n",
      " [2 1 3 7]\n",
      " [4 9 5 7]]\n",
      "[[7 5 0]\n",
      " [1 3 7]]\n",
      "[[6 0]\n",
      " [7 0]\n",
      " [1 7]\n",
      " [9 7]]\n",
      "[[2 1 3 7]\n",
      " [4 9 5 7]]\n",
      "[[2 6 3]\n",
      " [4 9 5]]\n",
      "[[[16 12 16]\n",
      "  [14 14 16]\n",
      "  [14 14 10]\n",
      "  [11 18 19]]\n",
      "\n",
      " [[14 13 19]\n",
      "  [19 18 11]\n",
      "  [12 13 11]\n",
      "  [14 18 14]]\n",
      "\n",
      " [[12 10 15]\n",
      "  [17 11 14]\n",
      "  [19 10 14]\n",
      "  [16 19 12]]]\n",
      "[[[16]\n",
      "  [10]]\n",
      "\n",
      " [[11]\n",
      "  [11]]]\n"
     ]
    }
   ],
   "source": [
    "#4.1:Indexing\n",
    "arr_1D=np.array([1,2,3,4,5,6,7,8])#1D array indexing\n",
    "print(arr_1D[1],arr_1D[-3])\n",
    "arr_2D=np.random.randint(2,10,(3,3))#2D array indexing\n",
    "print(arr_2D)\n",
    "print(arr_2D[1,2])\n",
    "#arr_3D=np.random.randn(2,3,2)#3D array indexing \n",
    "Ranf_3D=np.random.ranf((2,3,2))#3D array indexing \n",
    "print(arr_3D)\n",
    "print(arr_3D[0,1,1])\n",
    "\n",
    "#4.2:Slicing \n",
    "array_1D=np.arange(0,15,2)#1D array\n",
    "print(array_1D)\n",
    "print(array_1D[1:4:2])#[start,end,step]\n",
    "\n",
    "array_2D=np.random.randint(0,10,(4,4))#2D array\n",
    "print(array_2D)\n",
    "print(array_2D[1:3,1:4])#arr[row_start:row_end, col_start:col_end]\n",
    "print(array_2D[:,[1,3]])#Selecting specific columns\n",
    "print(array_2D[[2,3],:])#Selecting specific rows\n",
    "print(array_2D[[0,3],:3])#Selecting specific rows or columns\n",
    "\n",
    "array_3D=np.random.randint(10,20,(3,4,3))#3D array\n",
    "print(array_3D)\n",
    "print(array_3D[0:2,1:3,2:3])#arr[depth_start:depth_end, row_start:row_end, col_start:col_end]"
   ]
  },
  {
   "cell_type": "markdown",
   "id": "91c531eb-ad11-4a71-8408-826a6c6318ca",
   "metadata": {},
   "source": [
    "**5. Array Operations (Element-wise)**"
   ]
  },
  {
   "cell_type": "code",
   "execution_count": 463,
   "id": "eb5a52ec-c50b-4fe3-b3dc-06899204db6a",
   "metadata": {},
   "outputs": [
    {
     "name": "stdout",
     "output_type": "stream",
     "text": [
      "[10 20 30 40 50 60 70 80 90] [ 10.    21.25  32.5   43.75  55.    66.25  77.5   88.75 100.  ]\n",
      "[ 20.    41.25  62.5   83.75 105.   126.25 147.5  168.75 190.  ]\n",
      "[ 0.    1.25  2.5   3.75  5.    6.25  7.5   8.75 10.  ]\n",
      "[ 100.  425.  975. 1750. 2750. 3975. 5425. 7100. 9000.]\n",
      "[1.         1.0625     1.08333333 1.09375    1.1        1.10416667\n",
      " 1.10714286 1.109375   1.11111111]\n",
      "[ 20.   42.5  65.   87.5 110.  132.5 155.  177.5 200. ]\n",
      "[ 100  400  900 1600 2500 3600 4900 6400 8100]\n",
      "[1. 1. 1. 1. 1. 1. 1. 1. 1.]\n",
      "[10  0  6  2 11]\n",
      "[0 5 0 0 0]\n",
      "[1.         1.73205081 2.23606798 2.64575131 3.        ] [[1.41421356 2.        ]\n",
      " [2.23606798 2.64575131]] [[[0.54212853 0.70851181]\n",
      "  [0.81651931 0.41117065]\n",
      "  [0.79105001 0.90582702]]\n",
      "\n",
      " [[0.77969758 0.61876094]\n",
      "  [0.80101786 0.74337073]\n",
      "  [0.98141199 0.88645868]]]\n",
      "[2.71828183e+00 2.00855369e+01 1.48413159e+02 1.09663316e+03\n",
      " 8.10308393e+03] [[   7.3890561    54.59815003]\n",
      " [ 148.4131591  1096.63315843]] [[[1.34165421 1.65200381]\n",
      "  [1.94780633 1.18419273]\n",
      "  [1.8696666  2.27168671]]\n",
      "\n",
      " [[1.83662255 1.46648019]\n",
      "  [1.89957394 1.73776541]\n",
      "  [2.61998736 2.19418129]]]\n",
      "[0.         0.47712125 0.69897    0.84509804 0.95424251] [[0.30103    0.60205999]\n",
      " [0.69897    0.84509804]] [[[-0.53179548 -0.29930581]\n",
      "  [-0.17606708 -0.7719558 ]\n",
      "  [-0.20359211 -0.08590945]]\n",
      "\n",
      " [[-0.21614763 -0.41695422]\n",
      "  [-0.1927156  -0.25758909]\n",
      "  [-0.01629728 -0.10468301]]]\n",
      "[0.         1.5849625  2.32192809 2.80735492 3.169925  ] [[1.         2.        ]\n",
      " [2.32192809 2.80735492]] [[[-1.76658634 -0.99427239]\n",
      "  [-0.58488219 -2.56438165]\n",
      "  [-0.67631837 -0.28538503]]\n",
      "\n",
      " [[-0.71802688 -1.38509193]\n",
      "  [-0.64018736 -0.85569242]\n",
      "  [-0.05413839 -0.34774942]]]\n",
      "[ 0.84147098  0.14112001 -0.95892427  0.6569866   0.41211849] [[1.10714872 1.32581766]\n",
      " [1.37340077 1.42889927]] [[[0.95712041 0.87662726]\n",
      "  [0.78586431 0.98574314]\n",
      "  [0.81051814 0.68183902]]\n",
      "\n",
      " [[0.82083306 0.9275981 ]\n",
      "  [0.80112149 0.85116263]\n",
      "  [0.57092069 0.70681622]]]\n",
      "9 7 0.9631694947478224\n",
      "25 18 7.011941689036286\n",
      "5.0 4.5 0.5843284740863571\n",
      "2.8284271247461903 1.8027756377319946 0.21552509279377302\n",
      "5.0 4.5 0.6168442207039246\n",
      "8.0 3.25 0.04645106562376447\n",
      "[ 1  9 25 49 81] [[ 4 16]\n",
      " [25 49]] [[[0.08637917 0.25199294]\n",
      "  [0.44449393 0.02858172]\n",
      "  [0.39157573 0.67325734]]\n",
      "\n",
      " [[0.36957684 0.14658569]\n",
      "  [0.41168857 0.30536681]\n",
      "  [0.92769548 0.61749577]]]\n",
      "1.5707963267948966\n",
      "3.141592653589793\n",
      "59.99999999999999\n"
     ]
    }
   ],
   "source": [
    "#5.1:Arithmetic\n",
    "x=np.arange(10,100,10)#arange(start,end,step)\n",
    "y=np.linspace(10,100,9)#linspace(start,end,numbers)\n",
    "print(x,y)\n",
    "print(y+x)\n",
    "print(y-x)\n",
    "print(y*x)\n",
    "print(y/x)\n",
    "print(y*2)\n",
    "print(x**2)\n",
    "print(y//x)\n",
    "k=np.array([20,4,60,10,70])\n",
    "j=np.array([2,20,10,5,6])\n",
    "print(k//j)\n",
    "print(j//k)\n",
    "\n",
    "#5.2:Mathematical functions\n",
    "array_1D=np.arange(1,10,2)\n",
    "array_2D=np.array([[2,4],[5,7]])\n",
    "array_3D=np.random.ranf((2,3,2))#0 to 1 floats\n",
    "print(np.sqrt(array_1D),np.sqrt(array_2D),np.sqrt(array_3D))\n",
    "print(np.exp(array_1D),np.exp(array_2D),np.exp(array_3D))\n",
    "print(np.log10(array_1D),np.log10(array_2D),np.log10(array_3D))\n",
    "print(np.log2(array_1D),np.log2(array_2D),np.log2(array_3D))\n",
    "print(np.sin(array_1D),np.arctan(array_2D),np.cos(array_3D))\n",
    "print(np.max(array_1D),np.max(array_2D),np.max(array_3D))\n",
    "print(np.sum(array_1D),np.sum(array_2D),np.sum(array_3D))\n",
    "print(np.mean(array_1D),np.mean(array_2D),np.mean(array_3D))\n",
    "print(np.std(array_1D),np.std(array_2D),np.std(array_3D))\n",
    "print(np.median(array_1D),np.median(array_2D),np.median(array_3D))\n",
    "print(np.var(array_1D),np.var(array_2D),np.var(array_3D))\n",
    "print(np.power((array_1D),2),np.power((array_2D),2),np.power((array_3D),2))\n",
    "\n",
    "#5.3:Inverse and degree conversion\n",
    "print(np.arcsin(1))# sin⁻¹(1) = π/2,Inverse\n",
    "print(np.deg2rad(180))#or np.radians(180) ,degrees → radians\n",
    "print(np.rad2deg(np.pi/3))#or np.degrees(np.pi/3) ,radians to degrees"
   ]
  },
  {
   "cell_type": "markdown",
   "id": "78696cd2-6044-4570-9bfe-b34c344d6c19",
   "metadata": {},
   "source": [
    "**5. Broadcasting**"
   ]
  },
  {
   "cell_type": "code",
   "execution_count": null,
   "id": "28deb072-6c3b-403d-a284-317f9d1ac1c0",
   "metadata": {},
   "outputs": [
    {
     "name": "stdout",
     "output_type": "stream",
     "text": [
      "[[ 2  5  7]\n",
      " [ 5  9 11]]\n",
      "[[11 12 13]\n",
      " [14 16 17]]\n"
     ]
    }
   ],
   "source": [
    "#Broadcasting Allows operations between arrays of different shapes.\n",
    "#If the dimensions are equal →compatible.\n",
    "#If one of them is 1 → can stretch.\n",
    "#Otherwise → not compatible.\n",
    "A=np.array([[1,2,3],[4,6,7]])\n",
    "B=np.array([1,3,4])\n",
    "print(A+B)\n",
    "print(A+10)#Scalar and array\n",
    "print(B*2)"
   ]
  },
  {
   "cell_type": "markdown",
   "id": "2972c0f9-6193-41c2-b9cf-717bcef098e0",
   "metadata": {},
   "source": [
    "**6. Reshaping Array**"
   ]
  },
  {
   "cell_type": "code",
   "execution_count": 469,
   "id": "ac86283d-5e89-4922-86aa-cf241820fa45",
   "metadata": {},
   "outputs": [
    {
     "name": "stdout",
     "output_type": "stream",
     "text": [
      "[[ 0.70382679  1.64781691  0.31467441  0.84125334  0.18817187]\n",
      " [-0.8215954   0.46791982  0.27902573 -1.08670734  0.96378701]]\n",
      "[[ 0  1  2  3]\n",
      " [ 4  5  6  7]\n",
      " [ 8  9 10 11]]\n",
      "[[[ 0  1]\n",
      "  [ 2  3]\n",
      "  [ 4  5]]\n",
      "\n",
      " [[ 6  7]\n",
      "  [ 8  9]\n",
      "  [10 11]]]\n",
      "[[ 0  1  2  3]\n",
      " [ 4  5  6  7]\n",
      " [ 8  9 10 11]]\n",
      "[ 0.70382679  1.64781691  0.31467441  0.84125334  0.18817187 -0.8215954\n",
      "  0.46791982  0.27902573 -1.08670734  0.96378701]\n",
      "[ 0  1  2  3  4  5  6  7  8  9 10 11]\n"
     ]
    }
   ],
   "source": [
    "import numpy as np \n",
    "a=np.random.randn(10)\n",
    "#print(a)\n",
    "b=a.reshape(2,5)\n",
    "print(b)\n",
    "c=np.arange(12)\n",
    "print(c.reshape(3,4))#2D shape\n",
    "d=c.reshape(2,3,2)\n",
    "print(d)#3D shape\n",
    "print(c.reshape(3,-1))#Using -1 (Automatic Dimension)\n",
    "print(b.flatten())#2D to 1D\n",
    "#print(b.ravel())#Similar but returns view\n",
    "print(c.flatten())#3D to 1D\n",
    "#print(c.ravel())Similar but returns view"
   ]
  },
  {
   "cell_type": "markdown",
   "id": "26cbd6ae-f667-4fc0-986e-a588ed4992ed",
   "metadata": {},
   "source": [
    "**7.Stacking & Splitting**"
   ]
  },
  {
   "cell_type": "code",
   "execution_count": 472,
   "id": "1c059aa6-4ed3-4e3f-af37-e2c7ac54cff1",
   "metadata": {},
   "outputs": [
    {
     "name": "stdout",
     "output_type": "stream",
     "text": [
      "[ 0.  2.  4.  6.  8. 10.]\n",
      "[4 5 6 7 8 9]\n",
      "[[ 0.  2.  4.  6.  8. 10.]\n",
      " [ 4.  5.  6.  7.  8.  9.]]\n",
      "[ 0.  2.  4.  6.  8. 10.  4.  5.  6.  7.  8.  9.]\n",
      "[array([0., 2.]), array([4., 6.]), array([ 8., 10.])]\n",
      "[array([4, 5, 6]), array([7, 8, 9])]\n"
     ]
    }
   ],
   "source": [
    "#7.1:Stacking\n",
    "array1=np.linspace(0,10,6)\n",
    "array2=np.arange(4,10,1)\n",
    "\n",
    "print(array1)\n",
    "print(array2)\n",
    "print(np.vstack((array1,array2)))#returns 2D array,vertical stack\n",
    "print(np.hstack((array1,array2)))#returns 1D array,horizontal stack\n",
    "\n",
    "#7.2:Splitting\n",
    "print(np.split(array1,3))\n",
    "print(np.split(array2,2))"
   ]
  },
  {
   "cell_type": "markdown",
   "id": "3477f51b-f132-4d47-aaff-fb9709a12437",
   "metadata": {},
   "source": [
    "**8.Boolean Indexing & Filtering**"
   ]
  },
  {
   "cell_type": "code",
   "execution_count": 475,
   "id": "08b38b6b-f5fe-4710-9608-ced3108c5a66",
   "metadata": {},
   "outputs": [
    {
     "name": "stdout",
     "output_type": "stream",
     "text": [
      "[0.87378196 0.64754861 0.6081757  0.10590164 0.9348788  0.74692176\n",
      " 0.16627281 0.28173236 0.56107428 0.48597205]\n",
      "[ True  True  True False  True  True False False  True False]\n"
     ]
    }
   ],
   "source": [
    "array1=np.random.ranf(10)# floats between 0 to 1\n",
    "print(array1)\n",
    "print(array1>0.5)"
   ]
  },
  {
   "cell_type": "markdown",
   "id": "bcf15589-19bc-4cc7-8177-c7b8e9765a0f",
   "metadata": {},
   "source": [
    "**9.Matrix Operations**"
   ]
  },
  {
   "cell_type": "code",
   "execution_count": 478,
   "id": "d3e9a30b-83f4-4685-be0f-429ae2c5d0aa",
   "metadata": {},
   "outputs": [
    {
     "name": "stdout",
     "output_type": "stream",
     "text": [
      "[[0.39351765 0.71183086 0.42426569]\n",
      " [0.63208337 0.38895066 0.0714215 ]\n",
      " [0.81129019 0.18526941 0.75319698]] [[3 4 0]\n",
      " [1 4 2]\n",
      " [3 1 3]]\n",
      "[[3.39351765 4.71183086 0.42426569]\n",
      " [1.63208337 4.38895066 2.0714215 ]\n",
      " [3.81129019 1.18526941 3.75319698]]\n",
      "[[1.18055294 2.84732345 0.        ]\n",
      " [0.63208337 1.55580264 0.142843  ]\n",
      " [2.43387056 0.18526941 2.25959094]]\n",
      "[[3.16518088 4.84565973 2.6964588 ]\n",
      " [2.49946528 4.15555763 0.99216583]\n",
      " [4.87873091 4.73943538 2.63012977]]\n",
      "[[0.39351765 0.63208337 0.81129019]\n",
      " [0.71183086 0.38895066 0.18526941]\n",
      " [0.42426569 0.0714215  0.75319698]]\n",
      "[[-1.02929775  1.683624    0.42014078]\n",
      " [ 1.53862344  0.17591219 -0.88336659]\n",
      " [ 0.73021973 -1.85675038  1.09241638]]\n",
      "42.00000000000002\n"
     ]
    }
   ],
   "source": [
    "A=np.random.ranf((3,3))\n",
    "B=np.random.randint(0,5,(3,3))\n",
    "print(A,B)\n",
    "print(A+B)\n",
    "print(A*B)# Element-wise\n",
    "print(np.dot(A,B))# Matrix multiplication\n",
    "print(A.T)#transpose\n",
    "print(np.linalg.inv(A))\n",
    "print(np.linalg.det(B))"
   ]
  },
  {
   "cell_type": "markdown",
   "id": "aeab0885-7bcf-418c-baea-be1740ad3ef3",
   "metadata": {},
   "source": [
    "**10.Copy vs View**"
   ]
  },
  {
   "cell_type": "code",
   "execution_count": 481,
   "id": "d3321ee7-c042-4520-a577-e9bc5d176972",
   "metadata": {},
   "outputs": [
    {
     "name": "stdout",
     "output_type": "stream",
     "text": [
      "[1 2 3 4 6] [1 2 3 4 6]\n",
      "[0 2 4 6 8] [0 2 4 5 8]\n"
     ]
    }
   ],
   "source": [
    "#View\n",
    "a=np.array((1,2,3,4,5))#array from tuple \n",
    "b=a.view() # view → shares data\n",
    "b[4] = 6\n",
    "print(a,b)\n",
    "\n",
    "#Copy \n",
    "d=np.arange(0,10,2)\n",
    "e=d.copy() # copy → independent\n",
    "e[3]=5\n",
    "print(d,e) # unaffected"
   ]
  },
  {
   "cell_type": "code",
   "execution_count": null,
   "id": "62e41521-8ca9-439f-b741-448b2d1a22e2",
   "metadata": {},
   "outputs": [],
   "source": []
  }
 ],
 "metadata": {
  "kernelspec": {
   "display_name": "Python [conda env:base] *",
   "language": "python",
   "name": "conda-base-py"
  },
  "language_info": {
   "codemirror_mode": {
    "name": "ipython",
    "version": 3
   },
   "file_extension": ".py",
   "mimetype": "text/x-python",
   "name": "python",
   "nbconvert_exporter": "python",
   "pygments_lexer": "ipython3",
   "version": "3.12.7"
  }
 },
 "nbformat": 4,
 "nbformat_minor": 5
}
