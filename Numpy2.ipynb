{
 "cells": [
  {
   "cell_type": "markdown",
   "id": "5d2179d7-3267-4eb2-86b1-a3535d10ff64",
   "metadata": {},
   "source": [
    "**Array**"
   ]
  },
  {
   "cell_type": "code",
   "execution_count": 18,
   "id": "57752d98-18f3-4248-b63a-4d2b0ae77bb7",
   "metadata": {},
   "outputs": [
    {
     "name": "stdout",
     "output_type": "stream",
     "text": [
      "[[0. 0. 0.]\n",
      " [0. 0. 0.]\n",
      " [0. 0. 0.]\n",
      " [0. 0. 0.]]\n"
     ]
    }
   ],
   "source": [
    "import numpy as np\n",
    "zero=np.zeros((4,3))\n",
    "print(zero)"
   ]
  },
  {
   "cell_type": "markdown",
   "id": "e692993b-c502-42f6-aa78-3b54903a7471",
   "metadata": {},
   "source": [
    "**Random Function**"
   ]
  },
  {
   "cell_type": "code",
   "execution_count": 20,
   "id": "d9b6adb4-20b2-47b6-a6b0-ad1c33b83517",
   "metadata": {},
   "outputs": [
    {
     "name": "stdout",
     "output_type": "stream",
     "text": [
      "[[0.47255287 0.44644147 0.94809248]\n",
      " [0.00472023 0.27500493 0.48667612]]\n",
      "[-0.24043507 -0.6592043   0.49231002 -0.52456663]\n",
      "[0.69764824 0.03454804 0.81822118 0.77579864 0.06406288] [[0.36584719 0.8192795  0.56978252]\n",
      " [0.64959289 0.33892737 0.11767941]\n",
      " [0.6578185  0.62072193 0.99473436]]\n",
      "[[3 4 7 9]\n",
      " [8 5 5 9]\n",
      " [5 5 5 8]\n",
      " [6 6 7 7]]\n"
     ]
    }
   ],
   "source": [
    "#rand() function #np.random.rand(n)-->1D array ,np.random.rand(m,n)-->2D array\n",
    "Random=np.random.rand(2,3)\n",
    "print(Random)\n",
    "#randn() function #close to zero ,include positive and Negative\n",
    "Random_1=np.random.randn(4)\n",
    "print(Random_1)\n",
    "#ranf() function #Random floats in [0, 1)\n",
    "Random_2=np.random.ranf(5) #1D array\n",
    "Random_3=np.random.ranf((3,3)) #2D array\n",
    "print(Random_2,Random_3)\n",
    "#Randint(low, high=None, size=None)\n",
    "Random_4=np.random.randint(3,10,(4,4))\n",
    "#Random_4=np.random.randint(3,10,5) #[8 4 9 5 3]\n",
    "print(Random_4)"
   ]
  },
  {
   "cell_type": "markdown",
   "id": "0752d418-c8fb-41d8-970b-42401d6882e2",
   "metadata": {},
   "source": [
    "**Data Type**"
   ]
  },
  {
   "cell_type": "code",
   "execution_count": 62,
   "id": "71d28188-edc9-41ca-ab6a-85393acbdf1f",
   "metadata": {},
   "outputs": [],
   "source": [
    "Array_1=np.array([\"A\",45,\"Foysal\"])\n",
    "Array_1.dtype #U11 is the subset of string\n",
    "Array_2=np.array([1,3,4,5,6,7,True])"
   ]
  },
  {
   "cell_type": "markdown",
   "id": "da1527a8-e017-44a4-a599-21899eb1fd4b",
   "metadata": {},
   "source": [
    "**Arithmetic Operation**"
   ]
  },
  {
   "cell_type": "code",
   "execution_count": 210,
   "id": "62ff7cee-cc17-41f2-b824-8a356886ae81",
   "metadata": {},
   "outputs": [
    {
     "name": "stdout",
     "output_type": "stream",
     "text": [
      "[ 6  8  9 10 12] [ 6  8  9 10 12] [ 5  8 10  8 12] [ 5  8 10  8 12] [20 25 30 15 25] [20 25 30 15 25] [0.5 1.5 2.  2.5 3.5] [0.5 1.5 2.  2.5 3.5] [5 5 5 5 5] [5 5 5 5 5] [1 3 4 2 2] [1 3 4 2 2] [16 25 36  9 25] [16 25 36  9 25] [1.         0.33333333 0.25       0.2        0.14285714] [1. 3. 4. 5. 7.]\n"
     ]
    }
   ],
   "source": [
    "A=np.array([1,3,4,5,7])\n",
    "B=np.array([4,5,6,3,5])\n",
    "C=A+5 #add valuefg\n",
    "C_1=np.add(5,A)\n",
    "D=A+B #add two array\n",
    "D_1=np.add(A,B)\n",
    "E=B*5 #multiplication\n",
    "E_1=np.multiply(B,5)\n",
    "F=A/2 #Division\n",
    "F_1=np.divide(A,2)\n",
    "G=C-A #Substaction\n",
    "G_1=np.subtract(C,A)\n",
    "H=A%B #Mod\n",
    "H_1=np.mod(A,B)\n",
    "I=B**2 #Power\n",
    "I_1=np.power(B,2)\n",
    "J=1/A #reciprocal\n",
    "J_1=np.reciprocal(1/A)\n",
    "print(C,C_1,D,D_1,E,E_1,F,F_1,G,G_1,H,H_1,I,I_1,J,J_1)"
   ]
  },
  {
   "cell_type": "markdown",
   "id": "e40edf09-a8c2-49a3-be6d-d661a39b09f5",
   "metadata": {},
   "source": [
    "**Arithmetic Function**"
   ]
  },
  {
   "cell_type": "code",
   "execution_count": 275,
   "id": "2b15abdc-cbe9-4251-8b58-00c5b4077736",
   "metadata": {},
   "outputs": [
    {
     "name": "stdout",
     "output_type": "stream",
     "text": [
      "5 67 7 4\n",
      "[5.56776436 4.79583152 3.74165739 5.91607978 8.18535277 3.87298335\n",
      " 6.55743852 2.23606798 2.23606798 4.         2.64575131 7.28010989\n",
      " 5.65685425 4.69041576]\n",
      "[ 0.84147098  0.14112001 -0.7568025  -0.95892427 -0.2794155 ] [ 0.54030231 -0.9899925  -0.65364362  0.28366219  0.96017029]\n",
      "[ 1  4  8 13 19]\n"
     ]
    }
   ],
   "source": [
    "Array_2=np.array([31,23,14,35,67,15,43,5,5,16,7,53,32,22])\n",
    "np.min(Array_2) #find the min number\n",
    "np.max(Array_2) #find the max number\n",
    "np.argmin(Array_2) #Position of index\n",
    "\n",
    "print(np.min(Array_2),np.max(Array_2),np.argmin(Array_2),np.argmax(Array_2))\n",
    "#sqrt\n",
    "print(np.sqrt(Array_2))\n",
    "#sin(x) and cos(x)\n",
    "Array_3=np.array([1,3,4,5,6])\n",
    "print(np.sin(Array_3),np.cos(Array_3))\n",
    "#Cumsum #Arc Adition\n",
    "print(np.cumsum(Array_3))"
   ]
  },
  {
   "cell_type": "markdown",
   "id": "d8dd4159-a1a5-480f-ba92-5fe6224dba01",
   "metadata": {},
   "source": [
    "***Shape***"
   ]
  },
  {
   "cell_type": "code",
   "execution_count": 328,
   "id": "6b637492-fd43-445d-a1c5-b2f8bb2abcf2",
   "metadata": {},
   "outputs": [
    {
     "name": "stdout",
     "output_type": "stream",
     "text": [
      "[[1 4]\n",
      " [7 2]\n",
      " [9 8]\n",
      " [9 7]] [[1 4 7 2]\n",
      " [9 8 9 7]\n",
      " [1 4 7 2]] [[ 1  4  3 10  5]\n",
      " [ 5  3  4  3  2]\n",
      " [ 3  5  1  4  3]\n",
      " [10  5  5  3  4]]\n"
     ]
    }
   ],
   "source": [
    "#Reshape Changes the shape without modifying \n",
    "var=np.array([1,4,7,2,9,8,9,7])\n",
    "Reshape=np.reshape(var,(4,2))\n",
    "#Resize Changes the shape and can modify\n",
    "var_1=np.array([1,4,3,10,5,5,3,4,3,2,3,5])\n",
    "Resize=np.resize(var,(3,4))\n",
    "Resize_1=np.resize(var_1,(4,5))\n",
    "\n",
    "print(Reshape,Resize,Resize_1)"
   ]
  },
  {
   "cell_type": "markdown",
   "id": "0474fd5d-0dd4-487d-98ba-2290ce06c1d5",
   "metadata": {},
   "source": [
    "**Broadcasting**"
   ]
  },
  {
   "cell_type": "code",
   "execution_count": 359,
   "id": "29ea51d8-32d0-426c-939b-427800ba4cd3",
   "metadata": {},
   "outputs": [
    {
     "name": "stdout",
     "output_type": "stream",
     "text": [
      "[[ 7  9 12 12]\n",
      " [ 7  9 12 12]\n",
      " [ 6  8 11 11]]\n",
      "[[13 13  8]\n",
      " [12 12  7]\n",
      " [17 17 12]\n",
      " [13 13  8]]\n"
     ]
    }
   ],
   "source": [
    "Array_4=np.random.randint(3,10,(3,1))\n",
    "Array_5=np.random.randint(1,7,(1,4))\n",
    "print(Array_4+Array_5) #A is broadcast across columns, B across rows\n",
    "Array_6=np.random.randint(3,10,(4,1))\n",
    "Array_7=np.random.randint(3,10,(3,)) #becomes (1, 3)\n",
    "print(Array_6+Array_7) #Error->not equal and not 1\n"
   ]
  },
  {
   "cell_type": "markdown",
   "id": "84c852bb-6788-406f-893e-22a8c952169d",
   "metadata": {},
   "source": [
    "**Array Indexing and Slicing**"
   ]
  },
  {
   "cell_type": "code",
   "execution_count": 50,
   "id": "5b3792d5-a079-400d-b2fd-086c31909aed",
   "metadata": {},
   "outputs": [
    {
     "name": "stdout",
     "output_type": "stream",
     "text": [
      "6 [[3 3 3]\n",
      " [2 3 3]\n",
      " [2 3 2]] 3 10\n",
      "[ 56   7  98   3 353] [ 56   7  98   3 353] [[[ 2  3  2]\n",
      "  [ 2  3 10]]] [3 3]\n"
     ]
    }
   ],
   "source": [
    "#Indexing\n",
    "Array_8=np.array([12,3,4,5,56,6,7,8,98,64,3,2,353,3,53])\n",
    "Array_9=np.random.randint(2,4,(3,3))\n",
    "Array_10=np.array([[[2, 3 ,2],[2, 3 ,10]],[[2, 3 ,3],[2, 3 ,2]]])\n",
    "print(Array_8[5],Array_9,Array_10.ndim,Array_10[0,1,2])\n",
    "#Slicing [4:13:2]=[start:end:step]\n",
    "print(Array_8[4:13:2],Array_8[-11:-2:2],Array_10[0:1],Array_10[1,0,1:3])"
   ]
  },
  {
   "cell_type": "markdown",
   "id": "45f0c3ad-7274-4f87-a8eb-30085256533b",
   "metadata": {},
   "source": [
    "**<span style=\"background-color:yellow\">Iterating Numpy Array<span>**"
   ]
  },
  {
   "cell_type": "code",
   "execution_count": 80,
   "id": "d7bf54e8-31ef-417f-b556-e49ac23f5e65",
   "metadata": {},
   "outputs": [
    {
     "name": "stdout",
     "output_type": "stream",
     "text": [
      "1\n",
      "3\n",
      "4\n",
      "3\n",
      "7\n",
      "8\n",
      "var_3[0][0] = 1\n",
      "var_3[0][1] = 3\n",
      "var_3[0][2] = 4\n",
      "var_3[0][3] = 5\n",
      "var_3[1][0] = 5\n",
      "var_3[1][1] = 3\n",
      "var_3[1][2] = 3\n",
      "var_3[1][3] = 6\n",
      "1\n",
      "3\n",
      "4\n",
      "5\n",
      "5\n",
      "3\n",
      "3\n",
      "6\n",
      "(0, 0) 1\n",
      "(0, 1) 3\n",
      "(0, 2) 4\n",
      "(0, 3) 5\n",
      "(1, 0) 5\n",
      "(1, 1) 3\n",
      "(1, 2) 3\n",
      "(1, 3) 6\n"
     ]
    }
   ],
   "source": [
    "var_2=np.array([1,3,4,3,7,8])\n",
    "for i in var_2:\n",
    "    print(i)\n",
    "var_3=np.array([[1,3,4,5],[5,3,3,6]])\n",
    "for j in range(var_3.shape[0]):#rows\n",
    "    for k in range(var_3.shape[1]):#Columns\n",
    "     print(f\"var_3[{j}][{k}] = {var_3[j][k]}\")\n",
    "\n",
    "for l in np.nditer(var_3):\n",
    "    print(l)\n",
    "for i, d in np.ndenumerate(var_3):\n",
    "    print(i, d)"
   ]
  },
  {
   "cell_type": "markdown",
   "id": "7ea81ef1-5385-4f8d-8f91-8b9f3aed1fc1",
   "metadata": {},
   "source": [
    "***Copy Vs View***"
   ]
  },
  {
   "cell_type": "code",
   "execution_count": 39,
   "id": "576a8c95-497d-49da-98a7-d0320824ab14",
   "metadata": {},
   "outputs": [
    {
     "name": "stdout",
     "output_type": "stream",
     "text": [
      "[1 3 4 6 7 7] [1 3 0 6 7 7] [1 3 0 6 7 7]\n"
     ]
    }
   ],
   "source": [
    "import numpy as np\n",
    "Value=np.array([1,3,7,6,7,7])\n",
    "copy=Value.copy() #Create new data,doesnot affect origin data,Independent\n",
    "View=Value.view() #shares data,Affects origin data,Dependent\n",
    "copy[2]=4\n",
    "View[2]=0\n",
    "\n",
    "print(copy,Value,View)\n"
   ]
  },
  {
   "cell_type": "markdown",
   "id": "d941bec8-3d81-4e29-89e0-784756250aff",
   "metadata": {},
   "source": [
    "*Join Array and Split Function*"
   ]
  },
  {
   "cell_type": "code",
   "execution_count": 117,
   "id": "e7d5b067-6bac-4955-9399-518ce0027347",
   "metadata": {},
   "outputs": [
    {
     "name": "stdout",
     "output_type": "stream",
     "text": [
      "[1 2 3 4 5 6] [7 8 9 1 4 0] [[1 3]\n",
      " [3 5]] [[2 7]\n",
      " [5 7]] [1 2 3 4 5 6 7 8 9 1 4 0] [[1 3 2 7]\n",
      " [3 5 5 7]]\n",
      "[[1 2 3 4 5 6]\n",
      " [7 8 9 1 4 0]]\n",
      "[[[1 3]\n",
      "  [3 5]]\n",
      "\n",
      " [[2 7]\n",
      "  [5 7]]] [[[1 3]\n",
      "  [2 7]]\n",
      "\n",
      " [[3 5]\n",
      "  [5 7]]]\n",
      "[1 2 3 4 5 6 7 8 9 1 4 0]\n",
      "[[1 2 3 4 5 6]\n",
      " [7 8 9 1 4 0]]\n",
      "[[1 3 2 7]\n",
      " [3 5 5 7]]\n",
      "[[1 3]\n",
      " [3 5]\n",
      " [2 7]\n",
      " [5 7]] 2\n",
      "[array([1, 2]), array([3, 4]), array([5, 6])] [array([7, 8, 9]), array([1, 4, 0])]\n"
     ]
    }
   ],
   "source": [
    "Array_1=np.array([1,2,3,4,5,6])\n",
    "Array_2=np.array([7,8,9,1,4,0])\n",
    "Result_1=np.concatenate((Array_1,Array_2),axis=0)\n",
    "Array_3=np.array([[1,3],[3,5]])\n",
    "Array_4=np.array([[2,7],[5,7]])\n",
    "Result_2=np.concatenate((Array_3,Array_4),axis=1)\n",
    "print(Array_1,Array_2,Array_3,Array_4,Result_1,Result_2)\n",
    "Result_3=np.stack((Array_1,Array_2),axis=0)#axis=0 Means row ,axis=1 means Column\n",
    "print(Result_3)\n",
    "Result_4=np.stack((Array_3,Array_4),axis=0)#Stack increase +1 dimension\n",
    "Result_5=np.stack((Array_3,Array_4),axis=1)\n",
    "print(Result_4,Result_5)\n",
    "#HStack And VStack for 1D array\n",
    "Result_6=np.hstack((Array_1,Array_2)) # horizontal stack(column-wise)\n",
    "print(Result_6) #[1 2 3 4 5 6 7 8 9 1 4 0] combine and convert into a 1D Array\n",
    "Result_7=np.vstack((Array_1,Array_2)) #vertical stack(row-wise)\n",
    "print(Result_7) #[[1 2 3 4 5 6][7 8 9 1 4 0]] convert into a 2D Array\n",
    "#HStack And VStack for 2D array\n",
    "Result_8=np.hstack((Array_3,Array_4)) # horizontal stack(column-wise)\n",
    "print(Result_8) #[[1 3 2 7][3 5 5 7]] combine and convert into a 2D Array\n",
    "Result_9=np.vstack((Array_3,Array_4)) #vertical stack(row-wise)\n",
    "print(Result_9,Result_9.ndim) #[[1 3][3 5][2 7][5 7]] All arange row by row.\n",
    "#Split\n",
    "Split_1=np.split(Array_1,3)\n",
    "Split_2=np.split(Array_2,2)\n",
    "print(Split_1,Split_2)\n"
   ]
  },
  {
   "cell_type": "markdown",
   "id": "54e394cb-9779-40c0-a6f4-81af791a577b",
   "metadata": {},
   "source": [
    "**Search/Find Index**"
   ]
  },
  {
   "cell_type": "code",
   "execution_count": 154,
   "id": "9d185428-25ac-4970-b1f9-0c529c23fc54",
   "metadata": {},
   "outputs": [
    {
     "name": "stdout",
     "output_type": "stream",
     "text": [
      "(array([0, 3, 5], dtype=int64),)\n",
      "2\n",
      "[2 0 6 2 6]\n"
     ]
    }
   ],
   "source": [
    "Array=np.array([1,2,4,5,6,7])#index find\n",
    "x=np.where((Array%2!=0))\n",
    "print(x)\n",
    "val=3\n",
    "y=np.searchsorted(Array,val)#find that where is the position of 3\n",
    "print(y)\n",
    "val_1=[4,0,15,4,13]\n",
    "z=np.searchsorted(Array,val_1)\n",
    "print(z)"
   ]
  },
  {
   "cell_type": "markdown",
   "id": "6745758a-a7bf-4678-88a6-8dc091222361",
   "metadata": {},
   "source": [
    "<span style=\"color:red\">Sort Array</span>"
   ]
  },
  {
   "cell_type": "code",
   "execution_count": 162,
   "id": "ae60af07-b672-48a4-a434-88694157e98c",
   "metadata": {},
   "outputs": [
    {
     "name": "stdout",
     "output_type": "stream",
     "text": [
      "[ 3  4  7  8 10 12 19]\n",
      "['B' 'N' 'a' 'f' 't']\n"
     ]
    }
   ],
   "source": [
    "Array=np.array([7,3,8,19,12,4,10])\n",
    "print(np.sort(Array))\n",
    "Array_1=np.array(['a','N','f','t','B'])\n",
    "print(np.sort(Array_1))"
   ]
  },
  {
   "cell_type": "markdown",
   "id": "55d5d761-1a45-4a22-8e53-0f3f5cddeb5a",
   "metadata": {},
   "source": [
    "`Filter Array`"
   ]
  },
  {
   "cell_type": "code",
   "execution_count": 184,
   "id": "28b22fdd-1b59-49a0-badd-38ca9b33cbe0",
   "metadata": {},
   "outputs": [
    {
     "name": "stdout",
     "output_type": "stream",
     "text": [
      "[10 15]\n"
     ]
    }
   ],
   "source": [
    "arr = np.array([10, 25, 30, 15, 50])\n",
    "result = arr[(arr >= 10) & (arr <= 20)]\n",
    "print(result)  "
   ]
  },
  {
   "cell_type": "markdown",
   "id": "8ac7c5f3-0312-4ee9-b261-a976c1c6aa89",
   "metadata": {},
   "source": [
    "`Arithmetic Functions`"
   ]
  },
  {
   "cell_type": "code",
   "execution_count": 237,
   "id": "20080650-b4df-4be4-bdf3-4ba957c18c12",
   "metadata": {},
   "outputs": [
    {
     "name": "stdout",
     "output_type": "stream",
     "text": [
      "[4 2 3 8 9 3 7 3 3 2]\n",
      "[[[1 3]\n",
      "  [4 7]]\n",
      "\n",
      " [[3 6]\n",
      "  [1 3]]]\n",
      "[2 3 4 7 8 9]\n",
      "[1 3 4 6 7]\n"
     ]
    }
   ],
   "source": [
    "#Suffles\n",
    "array=np.array([2,3,7,2,3,3,8,9,4,3])\n",
    "array_1=np.array([[[1,3],[4,7]],[[3,6],[1,3]]])\n",
    "np.random.shuffle(array)#Order is randomly changed\n",
    "np.random.shuffle(array_1)\n",
    "print(array)\n",
    "print(array_1)\n",
    "#Unique\n",
    "x=np.unique(array)\n",
    "x_1=np.unique(array_1)\n",
    "print(x)\n",
    "print(x_1) #sorted list without duplicate from 2/3D array\n"
   ]
  },
  {
   "cell_type": "code",
   "execution_count": 247,
   "id": "52d2c4d7-efbf-4fe1-957a-3efdf3ce77be",
   "metadata": {},
   "outputs": [
    {
     "name": "stdout",
     "output_type": "stream",
     "text": [
      "[[2 3 7]\n",
      " [2 3 3]]\n",
      "[[1 3]\n",
      " [4 7]] [[1 3 4 7]\n",
      " [3 6 1 3]\n",
      " [1 3 4 7]\n",
      " [3 6 1 3]] [[1 3 4 7]\n",
      " [3 6 1 3]\n",
      " [1 3 4 7]]\n"
     ]
    }
   ],
   "source": [
    "#Resize \n",
    "array=np.array([2,3,7,2,3,3,8,9,4,3])\n",
    "array_1=np.array([[[1,3],[4,7]],[[3,6],[1,3]]])\n",
    "y=np.resize(array,(2,3))\n",
    "y_1=np.resize(array_1,(2,2))\n",
    "y_2=np.resize(array_1,(4,4))\n",
    "y_3=np.resize(array_1,(3,4))\n",
    "print(y)#Repeats/Randomly Select data if the new shape is larger/small\n",
    "print(y_1,y_2,y_3)"
   ]
  },
  {
   "cell_type": "code",
   "execution_count": 259,
   "id": "b61099ff-c288-4fca-88e5-1c15e7456b40",
   "metadata": {},
   "outputs": [
    {
     "name": "stdout",
     "output_type": "stream",
     "text": [
      "[1 3 4 7 3 6 1 3]\n",
      "[1 3 4 7 3 6 1 3]\n",
      "[1 3 4 7 3 6 1 3]\n"
     ]
    }
   ],
   "source": [
    "#Flatten function\n",
    "#converting a multi-dimensional array into a 1D array.Returns Copy\n",
    "array_1=np.array([[[1,3],[4,7]],[[3,6],[1,3]]])\n",
    "flat=array_1.flatten()\n",
    "print(flat)\n",
    "#Reval\n",
    "#Returns a view if possible, or a copy otherwise.\n",
    "flat_view = array_1.ravel()\n",
    "print(flat_view) \n",
    "#Reshape\n",
    "#Returns view\n",
    "flat_reshape = array_1.reshape(-1)\n",
    "print(flat_reshape)  "
   ]
  },
  {
   "cell_type": "code",
   "execution_count": 285,
   "id": "6642ad10-a802-47b0-83c6-77053323bfa9",
   "metadata": {},
   "outputs": [
    {
     "name": "stdout",
     "output_type": "stream",
     "text": [
      "[1 4 5 6 7 8 9 3 4] [1 4 5 6 7 8 9 1 4 5 6 7 8 9 3 4] [1 1 3 4 4 4 5 5 6 6 7 7 8 8 9 9] [1 3 4 5 6 7 8 9] [1 3 4 5 6 7 8 9]\n"
     ]
    }
   ],
   "source": [
    "#Insert Function for 1D array\n",
    "variable=np.array([1,4,5,6,7,8,9])\n",
    "v=np.insert(variable,1,3) #(array,index,value)\n",
    "#v=np.insert(variable,(3,4),10) #(array,index,value)\n",
    "v=np.insert(variable,7,(3,4)) #(array,index,value)\n",
    "#Extra Practics\n",
    "x=np.concatenate((variable,v))\n",
    "y=np.sort(x)\n",
    "z=np.unique(y)#Unique returns sort+unique list\n",
    "z_1=np.unique(x)\n",
    "print(v,x,y,z,z_1)"
   ]
  },
  {
   "cell_type": "code",
   "execution_count": 299,
   "id": "1099e1f5-1b65-4359-91da-a42195bea1e9",
   "metadata": {},
   "outputs": [
    {
     "name": "stdout",
     "output_type": "stream",
     "text": [
      "[[ 1  3  2  5  2  5]\n",
      " [ 9  3  3  4  5  1]\n",
      " [ 1  6  7  4 19  0]]\n",
      "\n",
      "[[ 1  3  5  2  5]\n",
      " [ 9  3  4  5  1]\n",
      " [ 1  6  4 19  0]\n",
      " [ 9  0  2  5  7]]\n"
     ]
    }
   ],
   "source": [
    "#Insert Function for 2D array\n",
    "variable=np.array([[1,3,5,2,5],[9,3,4,5,1],[1,6,4,19,0]])\n",
    "var=np.insert(variable,2,(2,3,7),axis=1) #column\n",
    "var_1=np.insert(variable,3,(9,0,2,5,7),axis=0) #rows\n",
    "print(var)\n",
    "print()\n",
    "print(var_1)"
   ]
  },
  {
   "cell_type": "code",
   "execution_count": 313,
   "id": "c116644d-9ad2-4392-a56e-5d3bd3df0952",
   "metadata": {},
   "outputs": [
    {
     "name": "stdout",
     "output_type": "stream",
     "text": [
      "[1 2 3 4 5 6 7 8] [[2 5]\n",
      " [3 9]\n",
      " [8 4]\n",
      " [2 5]] [[2 5]\n",
      " [3 9]\n",
      " [8 4]\n",
      " [2 5]]\n"
     ]
    }
   ],
   "source": [
    "#Append function for 1D array\n",
    "#np.append(array, values, axis=None)\n",
    "array=np.array([1,2,3,4,5])\n",
    "array_1=np.array([[2,5],[3,9],[8,4]])\n",
    "arr=np.append(array,(6,7,8))\n",
    "arr_2=np.append(array_1,[[2,5]],axis=0)\n",
    "#arr_2=np.append(array_1,[[2,5]],axis=0)\n",
    "print(arr,arr_1,arr_2)"
   ]
  },
  {
   "cell_type": "markdown",
   "id": "1ef41a46-9873-4c79-996e-715373d48740",
   "metadata": {},
   "source": [
    "**Matrix**"
   ]
  },
  {
   "cell_type": "code",
   "execution_count": 31,
   "id": "95c18e38-862a-4f36-9f31-a42a672fcb75",
   "metadata": {},
   "outputs": [
    {
     "name": "stdout",
     "output_type": "stream",
     "text": [
      "<class 'numpy.matrix'>\n",
      "[[ 16  37]\n",
      " [ 42 103]\n",
      " [ 28  59]]\n",
      "\n",
      "[[ 46  25]\n",
      " [120  65]\n",
      " [ 78  43]]\n",
      "[[ 8 12]\n",
      " [12 10]\n",
      " [10 10]]\n",
      "[[-4  6]\n",
      " [-4  0]\n",
      " [-6  2]]\n"
     ]
    }
   ],
   "source": [
    "import numpy as np\n",
    "var=np.matrix([[1,2,3],[4,5,7],[1,4,5]])\n",
    "var_1=np.matrix([[2,9],[4,5],[2,6]])\n",
    "var_2=np.matrix([[6,3],[8,5],[8,4]])\n",
    "\n",
    "print(type(var))\n",
    "#Addition,Cross Product,Substruction,dot Product\n",
    "print(var*var_1) #3*3 and 3*2 = 3*2\n",
    "print()\n",
    "print(var.dot(var_2)) #3*3 and 3*2 = 3*2\n",
    "print(var_1+var_2)\n",
    "print(var_1-var_2)"
   ]
  },
  {
   "cell_type": "markdown",
   "id": "bda29db5-e03a-46bf-a8e8-533861bf3443",
   "metadata": {},
   "source": [
    "***Matrix Feature***"
   ]
  },
  {
   "cell_type": "code",
   "execution_count": 70,
   "id": "0ecc3c6d-7fc4-4052-baff-3b48f8976679",
   "metadata": {},
   "outputs": [
    {
     "name": "stdout",
     "output_type": "stream",
     "text": [
      "[[1 2 3]\n",
      " [4 5 7]\n",
      " [1 4 5]]\n",
      "[[1 4 1]\n",
      " [2 5 4]\n",
      " [3 7 5]]\n",
      "[[1 4 1]\n",
      " [2 5 4]\n",
      " [3 7 5]]\n",
      "[[-0.75  0.5  -0.25]\n",
      " [-3.25  0.5   1.25]\n",
      " [ 2.75 -0.5  -0.75]]\n",
      "[[-0.18281938  0.35022026 -0.01762115]\n",
      " [ 0.1277533  -0.08810573  0.04845815]]\n",
      "[[140 272 364]\n",
      " [357 695 930]\n",
      " [246 478 640]]\n",
      "[[1 0 0]\n",
      " [0 1 0]\n",
      " [0 0 1]]\n",
      "4.000000000000002\n"
     ]
    }
   ],
   "source": [
    "#Transpose #transpose(a, axes=None)\n",
    "print(var)\n",
    "print(np.transpose(var))\n",
    "#Swapaxes #swapaxes(a, axis1, axis2)\n",
    "print(np.swapaxes(var,0,1))\n",
    "#Inverse #np.linalg.inv() \n",
    "#linalg is short for Linear Algebra.\n",
    "print(np.linalg.inv(var))\n",
    "#Moore-Penrose Pseudo-Inverse\n",
    "#If the matrix is not square or not invertible\n",
    "print(np.linalg.pinv(var_1))\n",
    "print(np.linalg.matrix_power(var,3)) # must be square\n",
    "print(np.linalg.matrix_power(var,0)) # identity matrix\n",
    "#Determinate\n",
    "print(np.linalg.det(var))"
   ]
  },
  {
   "cell_type": "code",
   "execution_count": null,
   "id": "250ecf16-3fef-4280-bb8d-b1296906b1ef",
   "metadata": {},
   "outputs": [],
   "source": []
  }
 ],
 "metadata": {
  "kernelspec": {
   "display_name": "Python [conda env:base] *",
   "language": "python",
   "name": "conda-base-py"
  },
  "language_info": {
   "codemirror_mode": {
    "name": "ipython",
    "version": 3
   },
   "file_extension": ".py",
   "mimetype": "text/x-python",
   "name": "python",
   "nbconvert_exporter": "python",
   "pygments_lexer": "ipython3",
   "version": "3.12.7"
  }
 },
 "nbformat": 4,
 "nbformat_minor": 5
}
